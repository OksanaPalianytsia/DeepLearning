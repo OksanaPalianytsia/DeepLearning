{
 "cells": [
  {
   "cell_type": "code",
   "execution_count": 1,
   "id": "6a32a6ac",
   "metadata": {},
   "outputs": [],
   "source": [
    "#!pip install --user --upgrade pip\n",
    "#!pip install -U setuptools --user\n",
    "#!pip install opencv-python --user\n",
    "#!pip install os-sys --user\n",
    "#!pip install face-recognition --user\n",
    "#!pip install dlib --user\n",
    "#!pip install keyboard --user"
   ]
  },
  {
   "cell_type": "code",
   "execution_count": 2,
   "id": "329771bd",
   "metadata": {},
   "outputs": [],
   "source": [
    "import pandas as pd\n",
    "import numpy as np\n",
    "import cv2\n",
    "import os\n",
    "import keyboard\n",
    "import dlib\n",
    "import face_recognition as face_recognition"
   ]
  },
  {
   "cell_type": "code",
   "execution_count": 3,
   "id": "e8ff4c09",
   "metadata": {},
   "outputs": [],
   "source": [
    "users_folder = 'users'\n",
    "users_subfolders = [ f.name for f in os.scandir(users_folder) if f.is_dir() ]"
   ]
  },
  {
   "cell_type": "code",
   "execution_count": 4,
   "id": "2dc9b026",
   "metadata": {},
   "outputs": [],
   "source": [
    "known_face_encodings = [] \n",
    "known_face_names = users_subfolders"
   ]
  },
  {
   "cell_type": "code",
   "execution_count": 5,
   "id": "de546a89",
   "metadata": {},
   "outputs": [],
   "source": [
    "for j in users_subfolders:\n",
    "    \n",
    "    subusers_path = users_folder + '/' + str(j) + '/'\n",
    "    \n",
    "    for i in os.listdir(subusers_path): \n",
    "        image = subusers_path + i\n",
    "        image = face_recognition.load_image_file(image)\n",
    "        image_encoding = face_recognition.face_encodings(image) \n",
    "        known_face_encodings.append(image_encoding[0])"
   ]
  },
  {
   "cell_type": "code",
   "execution_count": 6,
   "id": "e2b0bc9a",
   "metadata": {},
   "outputs": [],
   "source": [
    "current_face_locations = []\n",
    "current_face_encodings = []\n",
    "current_face_names = []\n",
    "process_this_frame = True"
   ]
  },
  {
   "cell_type": "code",
   "execution_count": 7,
   "id": "74b20ee2",
   "metadata": {},
   "outputs": [],
   "source": [
    "cap = cv2.VideoCapture(0)\n",
    "\n",
    "while True:\n",
    "    \n",
    "    ret, frame = cap.read()\n",
    "    \n",
    "    if process_this_frame:\n",
    "        # Перетворюємо рамку з кольорів палітри BGR (бібліотеки OpenCV) на RGB кольори біблоіотеки face_recognition\n",
    "        rgb_frame = cv2.cvtColor(frame, cv2.COLOR_BGR2RGB)\n",
    "        \n",
    "        # знаходмо всі обличчя в даній раиці на відео\n",
    "        current_face_locations = face_recognition.face_locations(rgb_frame)\n",
    "        current_face_encodings = face_recognition.face_encodings(rgb_frame, current_face_locations)\n",
    "\n",
    "        current_face_names = []\n",
    "        \n",
    "        for face in current_face_encodings:\n",
    "            # перевіряємо чи подане облтччя є серед відомих користувачів\n",
    "            matches = face_recognition.compare_faces(known_face_encodings, face)\n",
    "            name = \"Unknown user\"\n",
    "            color = (0, 0, 255) # обводимо червоним до розпізнавання\n",
    "\n",
    "            # якщо поточний користувач є серед known_face_encodings, обираємо перше.\n",
    "            if True in matches:\n",
    "                \n",
    "                first_match_index = matches.index(True)\n",
    "                name = known_face_names[first_match_index]\n",
    "\n",
    "            # або обираємо найближчого до цього користувача (за відстанню)\n",
    "            face_distances = face_recognition.face_distance(known_face_encodings, face)\n",
    "            best_match_index = np.argmin(face_distances)\n",
    "            \n",
    "            if matches[best_match_index]:                \n",
    "                name = known_face_names[best_match_index]\n",
    "                # обводимо зеленим\n",
    "                color = (0, 255, 0)\n",
    "\n",
    "            current_face_names.append(name)\n",
    "    \n",
    "    # завершуємо роботу з рамкою\n",
    "    process_this_frame = not process_this_frame\n",
    "\n",
    "\n",
    "    # результати\n",
    "    for (top, right, bottom, left), name in zip(current_face_locations, current_face_names):\n",
    "\n",
    "        # креслимо прямокутну рамку навколо обличчя\n",
    "        cv2.rectangle(frame, (left, top), (right, bottom), color, 2)\n",
    "\n",
    "        # підписуємо рамку відповідно до результатів розпізнавання\n",
    "        cv2.rectangle(frame, (left, bottom - 35), (right, bottom), color, cv2.FILLED)\n",
    "        font = cv2.FONT_HERSHEY_DUPLEX\n",
    "        cv2.putText(frame, name, (left + 6, bottom - 6), font, 1.0, (255, 255, 255), 1)\n",
    "\n",
    "    # лемонстрація отриманих результатів\n",
    "    cv2.imshow('Face recognition...', frame)\n",
    "\n",
    "    # Hit 'Esc' on the keyboard to quit!\n",
    "    if cv2.waitKey(1) & 0xFF == ord('\\x1b'):\n",
    "        break\n",
    "\n",
    "cap.release()\n",
    "cv2.destroyAllWindows()"
   ]
  },
  {
   "cell_type": "code",
   "execution_count": null,
   "id": "143c4793",
   "metadata": {},
   "outputs": [],
   "source": []
  }
 ],
 "metadata": {
  "kernelspec": {
   "display_name": "Python 3 (ipykernel)",
   "language": "python",
   "name": "python3"
  },
  "language_info": {
   "codemirror_mode": {
    "name": "ipython",
    "version": 3
   },
   "file_extension": ".py",
   "mimetype": "text/x-python",
   "name": "python",
   "nbconvert_exporter": "python",
   "pygments_lexer": "ipython3",
   "version": "3.8.12"
  }
 },
 "nbformat": 4,
 "nbformat_minor": 5
}
